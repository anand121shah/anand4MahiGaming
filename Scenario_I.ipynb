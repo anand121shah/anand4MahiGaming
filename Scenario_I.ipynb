{
  "nbformat": 4,
  "nbformat_minor": 0,
  "metadata": {
    "colab": {
      "provenance": [],
      "authorship_tag": "ABX9TyO81VarVCvII/A+evT2XuIC",
      "include_colab_link": true
    },
    "kernelspec": {
      "name": "python3",
      "display_name": "Python 3"
    },
    "language_info": {
      "name": "python"
    }
  },
  "cells": [
    {
      "cell_type": "markdown",
      "metadata": {
        "id": "view-in-github",
        "colab_type": "text"
      },
      "source": [
        "<a href=\"https://colab.research.google.com/github/as-bestinclass/anand4MahiGaming/blob/main/Scenario_I.ipynb\" target=\"_parent\"><img src=\"https://colab.research.google.com/assets/colab-badge.svg\" alt=\"Open In Colab\"/></a>"
      ]
    },
    {
      "cell_type": "markdown",
      "source": [
        "#Load Data"
      ],
      "metadata": {
        "id": "dnSo0XmQhfqi"
      }
    },
    {
      "cell_type": "code",
      "execution_count": 13,
      "metadata": {
        "id": "Xsk0RwscZlFO"
      },
      "outputs": [],
      "source": [
        "import pandas as pd\n",
        "from sklearn.preprocessing import LabelEncoder\n",
        "from sklearn.preprocessing import StandardScaler\n",
        "import matplotlib.pyplot as plt\n",
        "import numpy as np"
      ]
    },
    {
      "cell_type": "code",
      "source": [
        "#all caps cause i would rather create a new dataframe for analysis and have original dataframe constant\n",
        "FEATUREPURCHASEMETRICS_DF = pd.read_csv('/content/Scenario I.csv')"
      ],
      "metadata": {
        "id": "5LwHw2_PZsZj"
      },
      "execution_count": 2,
      "outputs": []
    },
    {
      "cell_type": "code",
      "source": [
        "FEATUREPURCHASEMETRICS_DF.head(10)"
      ],
      "metadata": {
        "colab": {
          "base_uri": "https://localhost:8080/",
          "height": 363
        },
        "id": "yzK5AKGWUAfy",
        "outputId": "4b2130f8-960c-4b43-88ba-ffe2374b1b05"
      },
      "execution_count": 3,
      "outputs": [
        {
          "output_type": "execute_result",
          "data": {
            "text/plain": [
              "       timestamp FeatureBuyChoice  Purchased Feature count\n",
              "0  6/2/2022 0:00        purchase4                     1118\n",
              "1  6/2/2022 0:00        purchase5                      304\n",
              "2  6/2/2022 0:00        purchase6                      244\n",
              "3  6/3/2022 0:00        purchase4                     4010\n",
              "4  6/3/2022 0:00        purchase5                     1032\n",
              "5  6/3/2022 0:00        purchase6                     1065\n",
              "6  6/4/2022 0:00        purchase4                     3300\n",
              "7  6/4/2022 0:00        purchase5                      757\n",
              "8  6/4/2022 0:00        purchase6                     1017\n",
              "9  6/5/2022 0:00        purchase4                     3013"
            ],
            "text/html": [
              "\n",
              "  <div id=\"df-6f9282b7-d09e-458b-aa72-fe57bc875a63\" class=\"colab-df-container\">\n",
              "    <div>\n",
              "<style scoped>\n",
              "    .dataframe tbody tr th:only-of-type {\n",
              "        vertical-align: middle;\n",
              "    }\n",
              "\n",
              "    .dataframe tbody tr th {\n",
              "        vertical-align: top;\n",
              "    }\n",
              "\n",
              "    .dataframe thead th {\n",
              "        text-align: right;\n",
              "    }\n",
              "</style>\n",
              "<table border=\"1\" class=\"dataframe\">\n",
              "  <thead>\n",
              "    <tr style=\"text-align: right;\">\n",
              "      <th></th>\n",
              "      <th>timestamp</th>\n",
              "      <th>FeatureBuyChoice</th>\n",
              "      <th>Purchased Feature count</th>\n",
              "    </tr>\n",
              "  </thead>\n",
              "  <tbody>\n",
              "    <tr>\n",
              "      <th>0</th>\n",
              "      <td>6/2/2022 0:00</td>\n",
              "      <td>purchase4</td>\n",
              "      <td>1118</td>\n",
              "    </tr>\n",
              "    <tr>\n",
              "      <th>1</th>\n",
              "      <td>6/2/2022 0:00</td>\n",
              "      <td>purchase5</td>\n",
              "      <td>304</td>\n",
              "    </tr>\n",
              "    <tr>\n",
              "      <th>2</th>\n",
              "      <td>6/2/2022 0:00</td>\n",
              "      <td>purchase6</td>\n",
              "      <td>244</td>\n",
              "    </tr>\n",
              "    <tr>\n",
              "      <th>3</th>\n",
              "      <td>6/3/2022 0:00</td>\n",
              "      <td>purchase4</td>\n",
              "      <td>4010</td>\n",
              "    </tr>\n",
              "    <tr>\n",
              "      <th>4</th>\n",
              "      <td>6/3/2022 0:00</td>\n",
              "      <td>purchase5</td>\n",
              "      <td>1032</td>\n",
              "    </tr>\n",
              "    <tr>\n",
              "      <th>5</th>\n",
              "      <td>6/3/2022 0:00</td>\n",
              "      <td>purchase6</td>\n",
              "      <td>1065</td>\n",
              "    </tr>\n",
              "    <tr>\n",
              "      <th>6</th>\n",
              "      <td>6/4/2022 0:00</td>\n",
              "      <td>purchase4</td>\n",
              "      <td>3300</td>\n",
              "    </tr>\n",
              "    <tr>\n",
              "      <th>7</th>\n",
              "      <td>6/4/2022 0:00</td>\n",
              "      <td>purchase5</td>\n",
              "      <td>757</td>\n",
              "    </tr>\n",
              "    <tr>\n",
              "      <th>8</th>\n",
              "      <td>6/4/2022 0:00</td>\n",
              "      <td>purchase6</td>\n",
              "      <td>1017</td>\n",
              "    </tr>\n",
              "    <tr>\n",
              "      <th>9</th>\n",
              "      <td>6/5/2022 0:00</td>\n",
              "      <td>purchase4</td>\n",
              "      <td>3013</td>\n",
              "    </tr>\n",
              "  </tbody>\n",
              "</table>\n",
              "</div>\n",
              "    <div class=\"colab-df-buttons\">\n",
              "\n",
              "  <div class=\"colab-df-container\">\n",
              "    <button class=\"colab-df-convert\" onclick=\"convertToInteractive('df-6f9282b7-d09e-458b-aa72-fe57bc875a63')\"\n",
              "            title=\"Convert this dataframe to an interactive table.\"\n",
              "            style=\"display:none;\">\n",
              "\n",
              "  <svg xmlns=\"http://www.w3.org/2000/svg\" height=\"24px\" viewBox=\"0 -960 960 960\">\n",
              "    <path d=\"M120-120v-720h720v720H120Zm60-500h600v-160H180v160Zm220 220h160v-160H400v160Zm0 220h160v-160H400v160ZM180-400h160v-160H180v160Zm440 0h160v-160H620v160ZM180-180h160v-160H180v160Zm440 0h160v-160H620v160Z\"/>\n",
              "  </svg>\n",
              "    </button>\n",
              "\n",
              "  <style>\n",
              "    .colab-df-container {\n",
              "      display:flex;\n",
              "      gap: 12px;\n",
              "    }\n",
              "\n",
              "    .colab-df-convert {\n",
              "      background-color: #E8F0FE;\n",
              "      border: none;\n",
              "      border-radius: 50%;\n",
              "      cursor: pointer;\n",
              "      display: none;\n",
              "      fill: #1967D2;\n",
              "      height: 32px;\n",
              "      padding: 0 0 0 0;\n",
              "      width: 32px;\n",
              "    }\n",
              "\n",
              "    .colab-df-convert:hover {\n",
              "      background-color: #E2EBFA;\n",
              "      box-shadow: 0px 1px 2px rgba(60, 64, 67, 0.3), 0px 1px 3px 1px rgba(60, 64, 67, 0.15);\n",
              "      fill: #174EA6;\n",
              "    }\n",
              "\n",
              "    .colab-df-buttons div {\n",
              "      margin-bottom: 4px;\n",
              "    }\n",
              "\n",
              "    [theme=dark] .colab-df-convert {\n",
              "      background-color: #3B4455;\n",
              "      fill: #D2E3FC;\n",
              "    }\n",
              "\n",
              "    [theme=dark] .colab-df-convert:hover {\n",
              "      background-color: #434B5C;\n",
              "      box-shadow: 0px 1px 3px 1px rgba(0, 0, 0, 0.15);\n",
              "      filter: drop-shadow(0px 1px 2px rgba(0, 0, 0, 0.3));\n",
              "      fill: #FFFFFF;\n",
              "    }\n",
              "  </style>\n",
              "\n",
              "    <script>\n",
              "      const buttonEl =\n",
              "        document.querySelector('#df-6f9282b7-d09e-458b-aa72-fe57bc875a63 button.colab-df-convert');\n",
              "      buttonEl.style.display =\n",
              "        google.colab.kernel.accessAllowed ? 'block' : 'none';\n",
              "\n",
              "      async function convertToInteractive(key) {\n",
              "        const element = document.querySelector('#df-6f9282b7-d09e-458b-aa72-fe57bc875a63');\n",
              "        const dataTable =\n",
              "          await google.colab.kernel.invokeFunction('convertToInteractive',\n",
              "                                                    [key], {});\n",
              "        if (!dataTable) return;\n",
              "\n",
              "        const docLinkHtml = 'Like what you see? Visit the ' +\n",
              "          '<a target=\"_blank\" href=https://colab.research.google.com/notebooks/data_table.ipynb>data table notebook</a>'\n",
              "          + ' to learn more about interactive tables.';\n",
              "        element.innerHTML = '';\n",
              "        dataTable['output_type'] = 'display_data';\n",
              "        await google.colab.output.renderOutput(dataTable, element);\n",
              "        const docLink = document.createElement('div');\n",
              "        docLink.innerHTML = docLinkHtml;\n",
              "        element.appendChild(docLink);\n",
              "      }\n",
              "    </script>\n",
              "  </div>\n",
              "\n",
              "\n",
              "<div id=\"df-fb691a08-bef9-43f0-a1c2-9811b6229027\">\n",
              "  <button class=\"colab-df-quickchart\" onclick=\"quickchart('df-fb691a08-bef9-43f0-a1c2-9811b6229027')\"\n",
              "            title=\"Suggest charts.\"\n",
              "            style=\"display:none;\">\n",
              "\n",
              "<svg xmlns=\"http://www.w3.org/2000/svg\" height=\"24px\"viewBox=\"0 0 24 24\"\n",
              "     width=\"24px\">\n",
              "    <g>\n",
              "        <path d=\"M19 3H5c-1.1 0-2 .9-2 2v14c0 1.1.9 2 2 2h14c1.1 0 2-.9 2-2V5c0-1.1-.9-2-2-2zM9 17H7v-7h2v7zm4 0h-2V7h2v10zm4 0h-2v-4h2v4z\"/>\n",
              "    </g>\n",
              "</svg>\n",
              "  </button>\n",
              "\n",
              "<style>\n",
              "  .colab-df-quickchart {\n",
              "      --bg-color: #E8F0FE;\n",
              "      --fill-color: #1967D2;\n",
              "      --hover-bg-color: #E2EBFA;\n",
              "      --hover-fill-color: #174EA6;\n",
              "      --disabled-fill-color: #AAA;\n",
              "      --disabled-bg-color: #DDD;\n",
              "  }\n",
              "\n",
              "  [theme=dark] .colab-df-quickchart {\n",
              "      --bg-color: #3B4455;\n",
              "      --fill-color: #D2E3FC;\n",
              "      --hover-bg-color: #434B5C;\n",
              "      --hover-fill-color: #FFFFFF;\n",
              "      --disabled-bg-color: #3B4455;\n",
              "      --disabled-fill-color: #666;\n",
              "  }\n",
              "\n",
              "  .colab-df-quickchart {\n",
              "    background-color: var(--bg-color);\n",
              "    border: none;\n",
              "    border-radius: 50%;\n",
              "    cursor: pointer;\n",
              "    display: none;\n",
              "    fill: var(--fill-color);\n",
              "    height: 32px;\n",
              "    padding: 0;\n",
              "    width: 32px;\n",
              "  }\n",
              "\n",
              "  .colab-df-quickchart:hover {\n",
              "    background-color: var(--hover-bg-color);\n",
              "    box-shadow: 0 1px 2px rgba(60, 64, 67, 0.3), 0 1px 3px 1px rgba(60, 64, 67, 0.15);\n",
              "    fill: var(--button-hover-fill-color);\n",
              "  }\n",
              "\n",
              "  .colab-df-quickchart-complete:disabled,\n",
              "  .colab-df-quickchart-complete:disabled:hover {\n",
              "    background-color: var(--disabled-bg-color);\n",
              "    fill: var(--disabled-fill-color);\n",
              "    box-shadow: none;\n",
              "  }\n",
              "\n",
              "  .colab-df-spinner {\n",
              "    border: 2px solid var(--fill-color);\n",
              "    border-color: transparent;\n",
              "    border-bottom-color: var(--fill-color);\n",
              "    animation:\n",
              "      spin 1s steps(1) infinite;\n",
              "  }\n",
              "\n",
              "  @keyframes spin {\n",
              "    0% {\n",
              "      border-color: transparent;\n",
              "      border-bottom-color: var(--fill-color);\n",
              "      border-left-color: var(--fill-color);\n",
              "    }\n",
              "    20% {\n",
              "      border-color: transparent;\n",
              "      border-left-color: var(--fill-color);\n",
              "      border-top-color: var(--fill-color);\n",
              "    }\n",
              "    30% {\n",
              "      border-color: transparent;\n",
              "      border-left-color: var(--fill-color);\n",
              "      border-top-color: var(--fill-color);\n",
              "      border-right-color: var(--fill-color);\n",
              "    }\n",
              "    40% {\n",
              "      border-color: transparent;\n",
              "      border-right-color: var(--fill-color);\n",
              "      border-top-color: var(--fill-color);\n",
              "    }\n",
              "    60% {\n",
              "      border-color: transparent;\n",
              "      border-right-color: var(--fill-color);\n",
              "    }\n",
              "    80% {\n",
              "      border-color: transparent;\n",
              "      border-right-color: var(--fill-color);\n",
              "      border-bottom-color: var(--fill-color);\n",
              "    }\n",
              "    90% {\n",
              "      border-color: transparent;\n",
              "      border-bottom-color: var(--fill-color);\n",
              "    }\n",
              "  }\n",
              "</style>\n",
              "\n",
              "  <script>\n",
              "    async function quickchart(key) {\n",
              "      const quickchartButtonEl =\n",
              "        document.querySelector('#' + key + ' button');\n",
              "      quickchartButtonEl.disabled = true;  // To prevent multiple clicks.\n",
              "      quickchartButtonEl.classList.add('colab-df-spinner');\n",
              "      try {\n",
              "        const charts = await google.colab.kernel.invokeFunction(\n",
              "            'suggestCharts', [key], {});\n",
              "      } catch (error) {\n",
              "        console.error('Error during call to suggestCharts:', error);\n",
              "      }\n",
              "      quickchartButtonEl.classList.remove('colab-df-spinner');\n",
              "      quickchartButtonEl.classList.add('colab-df-quickchart-complete');\n",
              "    }\n",
              "    (() => {\n",
              "      let quickchartButtonEl =\n",
              "        document.querySelector('#df-fb691a08-bef9-43f0-a1c2-9811b6229027 button');\n",
              "      quickchartButtonEl.style.display =\n",
              "        google.colab.kernel.accessAllowed ? 'block' : 'none';\n",
              "    })();\n",
              "  </script>\n",
              "</div>\n",
              "    </div>\n",
              "  </div>\n"
            ]
          },
          "metadata": {},
          "execution_count": 3
        }
      ]
    },
    {
      "cell_type": "markdown",
      "source": [
        "##Questions\n",
        "\n",
        "  A recent game implemented a Bonus Buy option (see image below).  The player can purchase any of the bonuses (purchase4, purchase 5 or purchase 6).  \n",
        "  The data gathered thru telemetry is in a table below.\n",
        "\n",
        "\n",
        "1.   **Timestamp** indicates when the Bonus Buy was selected\n",
        "2.   **FeatureBuyChoice** indicates what Bonus buy option was selected\n",
        "3.   **Purchased Feature count** indicates what Bonus buy option was selected\n",
        "        Purchased Feature count indicates how many times the Bonus Buy option (Feature) was selected in the time period (timestamp).\n",
        "\n",
        "\n",
        "### 1.   **Question 1**: What is the data telling us?  Provide a visualization that best represents the data collected.  Present conclusions.  \n",
        "### 2.   **Question 2**: What other fields would you request to be added to get additional insights?"
      ],
      "metadata": {
        "id": "VIJJ4oE5aWSB"
      }
    },
    {
      "cell_type": "markdown",
      "source": [
        "#Data Cleanup"
      ],
      "metadata": {
        "id": "y0JvoH1uha-k"
      }
    },
    {
      "cell_type": "markdown",
      "source": [
        "##Data Type"
      ],
      "metadata": {
        "id": "7lmFgv5jebp6"
      }
    },
    {
      "cell_type": "code",
      "source": [
        "FEATUREPURCHASEMETRICS_DF.dtypes"
      ],
      "metadata": {
        "colab": {
          "base_uri": "https://localhost:8080/"
        },
        "id": "GyoyGjvHd-1E",
        "outputId": "979be1ed-6cb7-4aa7-eef8-27f5628f11b2"
      },
      "execution_count": 4,
      "outputs": [
        {
          "output_type": "execute_result",
          "data": {
            "text/plain": [
              "timestamp                  object\n",
              "FeatureBuyChoice           object\n",
              "Purchased Feature count     int64\n",
              "dtype: object"
            ]
          },
          "metadata": {},
          "execution_count": 4
        }
      ]
    },
    {
      "cell_type": "markdown",
      "source": [
        "##timestamp (optional)"
      ],
      "metadata": {
        "id": "mZJkph4Deisr"
      }
    },
    {
      "cell_type": "code",
      "source": [
        "#lets make sure the timestamp column is in correct datatype\n",
        "\n",
        "df['timestamp'] = pd.to_datetime(df['timestamp'], format='%m/%d/%Y %H:%M')"
      ],
      "metadata": {
        "id": "p77WwKKQemB-"
      },
      "execution_count": null,
      "outputs": []
    },
    {
      "cell_type": "code",
      "source": [
        "df['timestamp']"
      ],
      "metadata": {
        "colab": {
          "base_uri": "https://localhost:8080/"
        },
        "id": "5Es9E0v5fwaL",
        "outputId": "30a741e2-5933-4af3-d53c-66a07010313b"
      },
      "execution_count": null,
      "outputs": [
        {
          "output_type": "execute_result",
          "data": {
            "text/plain": [
              "0    2022-06-02\n",
              "1    2022-06-02\n",
              "2    2022-06-02\n",
              "3    2022-06-03\n",
              "4    2022-06-03\n",
              "5    2022-06-03\n",
              "6    2022-06-04\n",
              "7    2022-06-04\n",
              "8    2022-06-04\n",
              "9    2022-06-05\n",
              "10   2022-06-05\n",
              "11   2022-06-05\n",
              "12   2022-06-06\n",
              "13   2022-06-06\n",
              "14   2022-06-06\n",
              "15   2022-06-07\n",
              "16   2022-06-07\n",
              "17   2022-06-07\n",
              "18   2022-06-08\n",
              "19   2022-06-08\n",
              "20   2022-06-08\n",
              "21   2022-06-09\n",
              "22   2022-06-09\n",
              "23   2022-06-09\n",
              "Name: timestamp, dtype: datetime64[ns]"
            ]
          },
          "metadata": {},
          "execution_count": 10
        }
      ]
    },
    {
      "cell_type": "markdown",
      "source": [],
      "metadata": {
        "id": "BsF43RV6f3n3"
      }
    },
    {
      "cell_type": "markdown",
      "source": [
        "##FeatureBuyChoice(optional)"
      ],
      "metadata": {
        "id": "b4JoQeYgf56Q"
      }
    },
    {
      "cell_type": "code",
      "source": [
        "#categorical values are encoded using LabelEncoder\n",
        "\n",
        "encoder = LabelEncoder()\n",
        "df['FeatureBuyChoice']=encoder.fit_transform(df['FeatureBuyChoice'])"
      ],
      "metadata": {
        "id": "x85ib1dKgEhJ"
      },
      "execution_count": null,
      "outputs": []
    },
    {
      "cell_type": "code",
      "source": [
        "df['FeatureBuyChoice']"
      ],
      "metadata": {
        "colab": {
          "base_uri": "https://localhost:8080/"
        },
        "id": "sorY0Db8g87U",
        "outputId": "e7a1feef-492e-4194-c73c-a9ac5e4cf8c7"
      },
      "execution_count": null,
      "outputs": [
        {
          "output_type": "execute_result",
          "data": {
            "text/plain": [
              "0     0\n",
              "1     1\n",
              "2     2\n",
              "3     0\n",
              "4     1\n",
              "5     2\n",
              "6     0\n",
              "7     1\n",
              "8     2\n",
              "9     0\n",
              "10    1\n",
              "11    2\n",
              "12    0\n",
              "13    1\n",
              "14    2\n",
              "15    0\n",
              "16    1\n",
              "17    2\n",
              "18    0\n",
              "19    1\n",
              "20    2\n",
              "21    0\n",
              "22    1\n",
              "23    2\n",
              "Name: FeatureBuyChoice, dtype: int64"
            ]
          },
          "metadata": {},
          "execution_count": 12
        }
      ]
    },
    {
      "cell_type": "markdown",
      "source": [
        "##Purchased Feature count (optional)"
      ],
      "metadata": {
        "id": "Z8DR5UPOhAZ_"
      }
    },
    {
      "cell_type": "code",
      "source": [
        "#lets scale the quantitative data\n",
        "\n",
        "scaler = StandardScaler()\n",
        "df['Purchased Feature count'] = scaler.fit_transform(df['Purchased Feature count'].values.reshape(-1,1))\n",
        "# we reshaped the column because we must pass 2D array, beacuse scaler only accepts 2d array"
      ],
      "metadata": {
        "id": "UNspitx5hCnY"
      },
      "execution_count": null,
      "outputs": []
    },
    {
      "cell_type": "code",
      "source": [
        "df['Purchased Feature count']"
      ],
      "metadata": {
        "id": "lzQ4JDnKi4Dy",
        "colab": {
          "base_uri": "https://localhost:8080/"
        },
        "outputId": "4a2faf33-2252-4b9d-fe3a-5e22d14bd34c"
      },
      "execution_count": null,
      "outputs": [
        {
          "output_type": "execute_result",
          "data": {
            "text/plain": [
              "0    -0.416605\n",
              "1    -1.119863\n",
              "2    -1.171700\n",
              "3     2.081946\n",
              "4    -0.490905\n",
              "5    -0.462395\n",
              "6     1.468539\n",
              "7    -0.728492\n",
              "8    -0.503864\n",
              "9     1.220585\n",
              "10   -0.781193\n",
              "11   -0.693934\n",
              "12    1.304388\n",
              "13   -0.677519\n",
              "14   -0.642097\n",
              "15    1.597268\n",
              "16   -0.513368\n",
              "17   -0.391551\n",
              "18    1.751916\n",
              "19   -0.520279\n",
              "20   -0.093487\n",
              "21    1.075441\n",
              "22   -0.699118\n",
              "23   -0.593715\n",
              "Name: Purchased Feature count, dtype: float64"
            ]
          },
          "metadata": {},
          "execution_count": 14
        }
      ]
    },
    {
      "cell_type": "markdown",
      "source": [
        "#Data Engineering"
      ],
      "metadata": {
        "id": "8Zz2w6B9O4ox"
      }
    },
    {
      "cell_type": "code",
      "source": [
        "#data generation\n",
        "#thinking outside of box, analyzing the geometric position of purchase4, purchase5 and purchase6 in respective to the cancel button\n",
        "#hypothesis and proof"
      ],
      "metadata": {
        "id": "LKbMqA-TO9XH"
      },
      "execution_count": null,
      "outputs": []
    },
    {
      "cell_type": "markdown",
      "source": [
        "##Cost Table"
      ],
      "metadata": {
        "id": "JGdSYJpFVrR3"
      }
    },
    {
      "cell_type": "code",
      "source": [
        "# Create a dictionary to hold the data\n",
        "CostDictionary = {\n",
        "    'Purchase': ['purchase4', 'purchase5', 'purchase6'],\n",
        "    'Cost': [150, 240, 300]\n",
        "}\n",
        "\n",
        "# Create a DataFrame from the dictionary\n",
        "CostDataframe = pd.DataFrame(CostDictionary)\n",
        "\n",
        "# Display the DataFrame\n",
        "print(CostDataframe)"
      ],
      "metadata": {
        "colab": {
          "base_uri": "https://localhost:8080/"
        },
        "id": "yJJdie3lVqmI",
        "outputId": "a994a3ee-c25b-4b54-c3f3-2314ffb4f2c0"
      },
      "execution_count": 5,
      "outputs": [
        {
          "output_type": "stream",
          "name": "stdout",
          "text": [
            "    Purchase  Cost\n",
            "0  purchase4   150\n",
            "1  purchase5   240\n",
            "2  purchase6   300\n"
          ]
        }
      ]
    },
    {
      "cell_type": "markdown",
      "source": [
        "##data split"
      ],
      "metadata": {
        "id": "uaAqtEJMSpfB"
      }
    },
    {
      "cell_type": "code",
      "source": [
        "# Calculate the total sum of count by each category\n",
        "newTable = FEATUREPURCHASEMETRICS_DF.groupby('FeatureBuyChoice')['Purchased Feature count'].sum().reset_index()"
      ],
      "metadata": {
        "id": "toQ5hrO5PSrK"
      },
      "execution_count": 8,
      "outputs": []
    },
    {
      "cell_type": "code",
      "source": [
        "newTable"
      ],
      "metadata": {
        "colab": {
          "base_uri": "https://localhost:8080/",
          "height": 143
        },
        "id": "wu6eyZT1RWnr",
        "outputId": "190a22f4-b0e1-45ff-b7c7-aeb25780ba14"
      },
      "execution_count": 9,
      "outputs": [
        {
          "output_type": "execute_result",
          "data": {
            "text/plain": [
              "  FeatureBuyChoice  Purchased Feature count\n",
              "0        purchase4                    24473\n",
              "1        purchase5                     6400\n",
              "2        purchase6                     7532"
            ],
            "text/html": [
              "\n",
              "  <div id=\"df-395c268d-c1c0-4c36-bc0e-cf80c6ff19f2\" class=\"colab-df-container\">\n",
              "    <div>\n",
              "<style scoped>\n",
              "    .dataframe tbody tr th:only-of-type {\n",
              "        vertical-align: middle;\n",
              "    }\n",
              "\n",
              "    .dataframe tbody tr th {\n",
              "        vertical-align: top;\n",
              "    }\n",
              "\n",
              "    .dataframe thead th {\n",
              "        text-align: right;\n",
              "    }\n",
              "</style>\n",
              "<table border=\"1\" class=\"dataframe\">\n",
              "  <thead>\n",
              "    <tr style=\"text-align: right;\">\n",
              "      <th></th>\n",
              "      <th>FeatureBuyChoice</th>\n",
              "      <th>Purchased Feature count</th>\n",
              "    </tr>\n",
              "  </thead>\n",
              "  <tbody>\n",
              "    <tr>\n",
              "      <th>0</th>\n",
              "      <td>purchase4</td>\n",
              "      <td>24473</td>\n",
              "    </tr>\n",
              "    <tr>\n",
              "      <th>1</th>\n",
              "      <td>purchase5</td>\n",
              "      <td>6400</td>\n",
              "    </tr>\n",
              "    <tr>\n",
              "      <th>2</th>\n",
              "      <td>purchase6</td>\n",
              "      <td>7532</td>\n",
              "    </tr>\n",
              "  </tbody>\n",
              "</table>\n",
              "</div>\n",
              "    <div class=\"colab-df-buttons\">\n",
              "\n",
              "  <div class=\"colab-df-container\">\n",
              "    <button class=\"colab-df-convert\" onclick=\"convertToInteractive('df-395c268d-c1c0-4c36-bc0e-cf80c6ff19f2')\"\n",
              "            title=\"Convert this dataframe to an interactive table.\"\n",
              "            style=\"display:none;\">\n",
              "\n",
              "  <svg xmlns=\"http://www.w3.org/2000/svg\" height=\"24px\" viewBox=\"0 -960 960 960\">\n",
              "    <path d=\"M120-120v-720h720v720H120Zm60-500h600v-160H180v160Zm220 220h160v-160H400v160Zm0 220h160v-160H400v160ZM180-400h160v-160H180v160Zm440 0h160v-160H620v160ZM180-180h160v-160H180v160Zm440 0h160v-160H620v160Z\"/>\n",
              "  </svg>\n",
              "    </button>\n",
              "\n",
              "  <style>\n",
              "    .colab-df-container {\n",
              "      display:flex;\n",
              "      gap: 12px;\n",
              "    }\n",
              "\n",
              "    .colab-df-convert {\n",
              "      background-color: #E8F0FE;\n",
              "      border: none;\n",
              "      border-radius: 50%;\n",
              "      cursor: pointer;\n",
              "      display: none;\n",
              "      fill: #1967D2;\n",
              "      height: 32px;\n",
              "      padding: 0 0 0 0;\n",
              "      width: 32px;\n",
              "    }\n",
              "\n",
              "    .colab-df-convert:hover {\n",
              "      background-color: #E2EBFA;\n",
              "      box-shadow: 0px 1px 2px rgba(60, 64, 67, 0.3), 0px 1px 3px 1px rgba(60, 64, 67, 0.15);\n",
              "      fill: #174EA6;\n",
              "    }\n",
              "\n",
              "    .colab-df-buttons div {\n",
              "      margin-bottom: 4px;\n",
              "    }\n",
              "\n",
              "    [theme=dark] .colab-df-convert {\n",
              "      background-color: #3B4455;\n",
              "      fill: #D2E3FC;\n",
              "    }\n",
              "\n",
              "    [theme=dark] .colab-df-convert:hover {\n",
              "      background-color: #434B5C;\n",
              "      box-shadow: 0px 1px 3px 1px rgba(0, 0, 0, 0.15);\n",
              "      filter: drop-shadow(0px 1px 2px rgba(0, 0, 0, 0.3));\n",
              "      fill: #FFFFFF;\n",
              "    }\n",
              "  </style>\n",
              "\n",
              "    <script>\n",
              "      const buttonEl =\n",
              "        document.querySelector('#df-395c268d-c1c0-4c36-bc0e-cf80c6ff19f2 button.colab-df-convert');\n",
              "      buttonEl.style.display =\n",
              "        google.colab.kernel.accessAllowed ? 'block' : 'none';\n",
              "\n",
              "      async function convertToInteractive(key) {\n",
              "        const element = document.querySelector('#df-395c268d-c1c0-4c36-bc0e-cf80c6ff19f2');\n",
              "        const dataTable =\n",
              "          await google.colab.kernel.invokeFunction('convertToInteractive',\n",
              "                                                    [key], {});\n",
              "        if (!dataTable) return;\n",
              "\n",
              "        const docLinkHtml = 'Like what you see? Visit the ' +\n",
              "          '<a target=\"_blank\" href=https://colab.research.google.com/notebooks/data_table.ipynb>data table notebook</a>'\n",
              "          + ' to learn more about interactive tables.';\n",
              "        element.innerHTML = '';\n",
              "        dataTable['output_type'] = 'display_data';\n",
              "        await google.colab.output.renderOutput(dataTable, element);\n",
              "        const docLink = document.createElement('div');\n",
              "        docLink.innerHTML = docLinkHtml;\n",
              "        element.appendChild(docLink);\n",
              "      }\n",
              "    </script>\n",
              "  </div>\n",
              "\n",
              "\n",
              "<div id=\"df-9a2fb04e-fb54-40bf-b283-d13ed7c9e5bc\">\n",
              "  <button class=\"colab-df-quickchart\" onclick=\"quickchart('df-9a2fb04e-fb54-40bf-b283-d13ed7c9e5bc')\"\n",
              "            title=\"Suggest charts.\"\n",
              "            style=\"display:none;\">\n",
              "\n",
              "<svg xmlns=\"http://www.w3.org/2000/svg\" height=\"24px\"viewBox=\"0 0 24 24\"\n",
              "     width=\"24px\">\n",
              "    <g>\n",
              "        <path d=\"M19 3H5c-1.1 0-2 .9-2 2v14c0 1.1.9 2 2 2h14c1.1 0 2-.9 2-2V5c0-1.1-.9-2-2-2zM9 17H7v-7h2v7zm4 0h-2V7h2v10zm4 0h-2v-4h2v4z\"/>\n",
              "    </g>\n",
              "</svg>\n",
              "  </button>\n",
              "\n",
              "<style>\n",
              "  .colab-df-quickchart {\n",
              "      --bg-color: #E8F0FE;\n",
              "      --fill-color: #1967D2;\n",
              "      --hover-bg-color: #E2EBFA;\n",
              "      --hover-fill-color: #174EA6;\n",
              "      --disabled-fill-color: #AAA;\n",
              "      --disabled-bg-color: #DDD;\n",
              "  }\n",
              "\n",
              "  [theme=dark] .colab-df-quickchart {\n",
              "      --bg-color: #3B4455;\n",
              "      --fill-color: #D2E3FC;\n",
              "      --hover-bg-color: #434B5C;\n",
              "      --hover-fill-color: #FFFFFF;\n",
              "      --disabled-bg-color: #3B4455;\n",
              "      --disabled-fill-color: #666;\n",
              "  }\n",
              "\n",
              "  .colab-df-quickchart {\n",
              "    background-color: var(--bg-color);\n",
              "    border: none;\n",
              "    border-radius: 50%;\n",
              "    cursor: pointer;\n",
              "    display: none;\n",
              "    fill: var(--fill-color);\n",
              "    height: 32px;\n",
              "    padding: 0;\n",
              "    width: 32px;\n",
              "  }\n",
              "\n",
              "  .colab-df-quickchart:hover {\n",
              "    background-color: var(--hover-bg-color);\n",
              "    box-shadow: 0 1px 2px rgba(60, 64, 67, 0.3), 0 1px 3px 1px rgba(60, 64, 67, 0.15);\n",
              "    fill: var(--button-hover-fill-color);\n",
              "  }\n",
              "\n",
              "  .colab-df-quickchart-complete:disabled,\n",
              "  .colab-df-quickchart-complete:disabled:hover {\n",
              "    background-color: var(--disabled-bg-color);\n",
              "    fill: var(--disabled-fill-color);\n",
              "    box-shadow: none;\n",
              "  }\n",
              "\n",
              "  .colab-df-spinner {\n",
              "    border: 2px solid var(--fill-color);\n",
              "    border-color: transparent;\n",
              "    border-bottom-color: var(--fill-color);\n",
              "    animation:\n",
              "      spin 1s steps(1) infinite;\n",
              "  }\n",
              "\n",
              "  @keyframes spin {\n",
              "    0% {\n",
              "      border-color: transparent;\n",
              "      border-bottom-color: var(--fill-color);\n",
              "      border-left-color: var(--fill-color);\n",
              "    }\n",
              "    20% {\n",
              "      border-color: transparent;\n",
              "      border-left-color: var(--fill-color);\n",
              "      border-top-color: var(--fill-color);\n",
              "    }\n",
              "    30% {\n",
              "      border-color: transparent;\n",
              "      border-left-color: var(--fill-color);\n",
              "      border-top-color: var(--fill-color);\n",
              "      border-right-color: var(--fill-color);\n",
              "    }\n",
              "    40% {\n",
              "      border-color: transparent;\n",
              "      border-right-color: var(--fill-color);\n",
              "      border-top-color: var(--fill-color);\n",
              "    }\n",
              "    60% {\n",
              "      border-color: transparent;\n",
              "      border-right-color: var(--fill-color);\n",
              "    }\n",
              "    80% {\n",
              "      border-color: transparent;\n",
              "      border-right-color: var(--fill-color);\n",
              "      border-bottom-color: var(--fill-color);\n",
              "    }\n",
              "    90% {\n",
              "      border-color: transparent;\n",
              "      border-bottom-color: var(--fill-color);\n",
              "    }\n",
              "  }\n",
              "</style>\n",
              "\n",
              "  <script>\n",
              "    async function quickchart(key) {\n",
              "      const quickchartButtonEl =\n",
              "        document.querySelector('#' + key + ' button');\n",
              "      quickchartButtonEl.disabled = true;  // To prevent multiple clicks.\n",
              "      quickchartButtonEl.classList.add('colab-df-spinner');\n",
              "      try {\n",
              "        const charts = await google.colab.kernel.invokeFunction(\n",
              "            'suggestCharts', [key], {});\n",
              "      } catch (error) {\n",
              "        console.error('Error during call to suggestCharts:', error);\n",
              "      }\n",
              "      quickchartButtonEl.classList.remove('colab-df-spinner');\n",
              "      quickchartButtonEl.classList.add('colab-df-quickchart-complete');\n",
              "    }\n",
              "    (() => {\n",
              "      let quickchartButtonEl =\n",
              "        document.querySelector('#df-9a2fb04e-fb54-40bf-b283-d13ed7c9e5bc button');\n",
              "      quickchartButtonEl.style.display =\n",
              "        google.colab.kernel.accessAllowed ? 'block' : 'none';\n",
              "    })();\n",
              "  </script>\n",
              "</div>\n",
              "    </div>\n",
              "  </div>\n"
            ]
          },
          "metadata": {},
          "execution_count": 9
        }
      ]
    },
    {
      "cell_type": "code",
      "source": [
        "# Filter the DataFrame to include only rows where FeatureBuyChoice is 'purchase4', 'purchase5' and 'purchase6'\n",
        "purchase4_df = FEATUREPURCHASEMETRICS_DF[FEATUREPURCHASEMETRICS_DF['FeatureBuyChoice'] == 'purchase4']\n",
        "purchase5_df = FEATUREPURCHASEMETRICS_DF[FEATUREPURCHASEMETRICS_DF['FeatureBuyChoice'] == 'purchase5']\n",
        "purchase6_df = FEATUREPURCHASEMETRICS_DF[FEATUREPURCHASEMETRICS_DF['FeatureBuyChoice'] == 'purchase6']"
      ],
      "metadata": {
        "id": "pbY89-KmSni0"
      },
      "execution_count": null,
      "outputs": []
    },
    {
      "cell_type": "code",
      "source": [
        "purchase4_df"
      ],
      "metadata": {
        "colab": {
          "base_uri": "https://localhost:8080/",
          "height": 300
        },
        "id": "c3AWHSMJTAvU",
        "outputId": "dcc915ac-fbd8-4ef0-f240-0c6cb9852232"
      },
      "execution_count": null,
      "outputs": [
        {
          "output_type": "execute_result",
          "data": {
            "text/plain": [
              "        timestamp FeatureBuyChoice  Purchased Feature count\n",
              "0   6/2/2022 0:00        purchase4                     1118\n",
              "3   6/3/2022 0:00        purchase4                     4010\n",
              "6   6/4/2022 0:00        purchase4                     3300\n",
              "9   6/5/2022 0:00        purchase4                     3013\n",
              "12  6/6/2022 0:00        purchase4                     3110\n",
              "15  6/7/2022 0:00        purchase4                     3449\n",
              "18  6/8/2022 0:00        purchase4                     3628\n",
              "21  6/9/2022 0:00        purchase4                     2845"
            ],
            "text/html": [
              "\n",
              "  <div id=\"df-db6f088c-c12d-4418-8ef8-20b063f748b9\" class=\"colab-df-container\">\n",
              "    <div>\n",
              "<style scoped>\n",
              "    .dataframe tbody tr th:only-of-type {\n",
              "        vertical-align: middle;\n",
              "    }\n",
              "\n",
              "    .dataframe tbody tr th {\n",
              "        vertical-align: top;\n",
              "    }\n",
              "\n",
              "    .dataframe thead th {\n",
              "        text-align: right;\n",
              "    }\n",
              "</style>\n",
              "<table border=\"1\" class=\"dataframe\">\n",
              "  <thead>\n",
              "    <tr style=\"text-align: right;\">\n",
              "      <th></th>\n",
              "      <th>timestamp</th>\n",
              "      <th>FeatureBuyChoice</th>\n",
              "      <th>Purchased Feature count</th>\n",
              "    </tr>\n",
              "  </thead>\n",
              "  <tbody>\n",
              "    <tr>\n",
              "      <th>0</th>\n",
              "      <td>6/2/2022 0:00</td>\n",
              "      <td>purchase4</td>\n",
              "      <td>1118</td>\n",
              "    </tr>\n",
              "    <tr>\n",
              "      <th>3</th>\n",
              "      <td>6/3/2022 0:00</td>\n",
              "      <td>purchase4</td>\n",
              "      <td>4010</td>\n",
              "    </tr>\n",
              "    <tr>\n",
              "      <th>6</th>\n",
              "      <td>6/4/2022 0:00</td>\n",
              "      <td>purchase4</td>\n",
              "      <td>3300</td>\n",
              "    </tr>\n",
              "    <tr>\n",
              "      <th>9</th>\n",
              "      <td>6/5/2022 0:00</td>\n",
              "      <td>purchase4</td>\n",
              "      <td>3013</td>\n",
              "    </tr>\n",
              "    <tr>\n",
              "      <th>12</th>\n",
              "      <td>6/6/2022 0:00</td>\n",
              "      <td>purchase4</td>\n",
              "      <td>3110</td>\n",
              "    </tr>\n",
              "    <tr>\n",
              "      <th>15</th>\n",
              "      <td>6/7/2022 0:00</td>\n",
              "      <td>purchase4</td>\n",
              "      <td>3449</td>\n",
              "    </tr>\n",
              "    <tr>\n",
              "      <th>18</th>\n",
              "      <td>6/8/2022 0:00</td>\n",
              "      <td>purchase4</td>\n",
              "      <td>3628</td>\n",
              "    </tr>\n",
              "    <tr>\n",
              "      <th>21</th>\n",
              "      <td>6/9/2022 0:00</td>\n",
              "      <td>purchase4</td>\n",
              "      <td>2845</td>\n",
              "    </tr>\n",
              "  </tbody>\n",
              "</table>\n",
              "</div>\n",
              "    <div class=\"colab-df-buttons\">\n",
              "\n",
              "  <div class=\"colab-df-container\">\n",
              "    <button class=\"colab-df-convert\" onclick=\"convertToInteractive('df-db6f088c-c12d-4418-8ef8-20b063f748b9')\"\n",
              "            title=\"Convert this dataframe to an interactive table.\"\n",
              "            style=\"display:none;\">\n",
              "\n",
              "  <svg xmlns=\"http://www.w3.org/2000/svg\" height=\"24px\" viewBox=\"0 -960 960 960\">\n",
              "    <path d=\"M120-120v-720h720v720H120Zm60-500h600v-160H180v160Zm220 220h160v-160H400v160Zm0 220h160v-160H400v160ZM180-400h160v-160H180v160Zm440 0h160v-160H620v160ZM180-180h160v-160H180v160Zm440 0h160v-160H620v160Z\"/>\n",
              "  </svg>\n",
              "    </button>\n",
              "\n",
              "  <style>\n",
              "    .colab-df-container {\n",
              "      display:flex;\n",
              "      gap: 12px;\n",
              "    }\n",
              "\n",
              "    .colab-df-convert {\n",
              "      background-color: #E8F0FE;\n",
              "      border: none;\n",
              "      border-radius: 50%;\n",
              "      cursor: pointer;\n",
              "      display: none;\n",
              "      fill: #1967D2;\n",
              "      height: 32px;\n",
              "      padding: 0 0 0 0;\n",
              "      width: 32px;\n",
              "    }\n",
              "\n",
              "    .colab-df-convert:hover {\n",
              "      background-color: #E2EBFA;\n",
              "      box-shadow: 0px 1px 2px rgba(60, 64, 67, 0.3), 0px 1px 3px 1px rgba(60, 64, 67, 0.15);\n",
              "      fill: #174EA6;\n",
              "    }\n",
              "\n",
              "    .colab-df-buttons div {\n",
              "      margin-bottom: 4px;\n",
              "    }\n",
              "\n",
              "    [theme=dark] .colab-df-convert {\n",
              "      background-color: #3B4455;\n",
              "      fill: #D2E3FC;\n",
              "    }\n",
              "\n",
              "    [theme=dark] .colab-df-convert:hover {\n",
              "      background-color: #434B5C;\n",
              "      box-shadow: 0px 1px 3px 1px rgba(0, 0, 0, 0.15);\n",
              "      filter: drop-shadow(0px 1px 2px rgba(0, 0, 0, 0.3));\n",
              "      fill: #FFFFFF;\n",
              "    }\n",
              "  </style>\n",
              "\n",
              "    <script>\n",
              "      const buttonEl =\n",
              "        document.querySelector('#df-db6f088c-c12d-4418-8ef8-20b063f748b9 button.colab-df-convert');\n",
              "      buttonEl.style.display =\n",
              "        google.colab.kernel.accessAllowed ? 'block' : 'none';\n",
              "\n",
              "      async function convertToInteractive(key) {\n",
              "        const element = document.querySelector('#df-db6f088c-c12d-4418-8ef8-20b063f748b9');\n",
              "        const dataTable =\n",
              "          await google.colab.kernel.invokeFunction('convertToInteractive',\n",
              "                                                    [key], {});\n",
              "        if (!dataTable) return;\n",
              "\n",
              "        const docLinkHtml = 'Like what you see? Visit the ' +\n",
              "          '<a target=\"_blank\" href=https://colab.research.google.com/notebooks/data_table.ipynb>data table notebook</a>'\n",
              "          + ' to learn more about interactive tables.';\n",
              "        element.innerHTML = '';\n",
              "        dataTable['output_type'] = 'display_data';\n",
              "        await google.colab.output.renderOutput(dataTable, element);\n",
              "        const docLink = document.createElement('div');\n",
              "        docLink.innerHTML = docLinkHtml;\n",
              "        element.appendChild(docLink);\n",
              "      }\n",
              "    </script>\n",
              "  </div>\n",
              "\n",
              "\n",
              "<div id=\"df-77d25cbc-3bbe-4edb-8ad9-e66e6f10984f\">\n",
              "  <button class=\"colab-df-quickchart\" onclick=\"quickchart('df-77d25cbc-3bbe-4edb-8ad9-e66e6f10984f')\"\n",
              "            title=\"Suggest charts.\"\n",
              "            style=\"display:none;\">\n",
              "\n",
              "<svg xmlns=\"http://www.w3.org/2000/svg\" height=\"24px\"viewBox=\"0 0 24 24\"\n",
              "     width=\"24px\">\n",
              "    <g>\n",
              "        <path d=\"M19 3H5c-1.1 0-2 .9-2 2v14c0 1.1.9 2 2 2h14c1.1 0 2-.9 2-2V5c0-1.1-.9-2-2-2zM9 17H7v-7h2v7zm4 0h-2V7h2v10zm4 0h-2v-4h2v4z\"/>\n",
              "    </g>\n",
              "</svg>\n",
              "  </button>\n",
              "\n",
              "<style>\n",
              "  .colab-df-quickchart {\n",
              "      --bg-color: #E8F0FE;\n",
              "      --fill-color: #1967D2;\n",
              "      --hover-bg-color: #E2EBFA;\n",
              "      --hover-fill-color: #174EA6;\n",
              "      --disabled-fill-color: #AAA;\n",
              "      --disabled-bg-color: #DDD;\n",
              "  }\n",
              "\n",
              "  [theme=dark] .colab-df-quickchart {\n",
              "      --bg-color: #3B4455;\n",
              "      --fill-color: #D2E3FC;\n",
              "      --hover-bg-color: #434B5C;\n",
              "      --hover-fill-color: #FFFFFF;\n",
              "      --disabled-bg-color: #3B4455;\n",
              "      --disabled-fill-color: #666;\n",
              "  }\n",
              "\n",
              "  .colab-df-quickchart {\n",
              "    background-color: var(--bg-color);\n",
              "    border: none;\n",
              "    border-radius: 50%;\n",
              "    cursor: pointer;\n",
              "    display: none;\n",
              "    fill: var(--fill-color);\n",
              "    height: 32px;\n",
              "    padding: 0;\n",
              "    width: 32px;\n",
              "  }\n",
              "\n",
              "  .colab-df-quickchart:hover {\n",
              "    background-color: var(--hover-bg-color);\n",
              "    box-shadow: 0 1px 2px rgba(60, 64, 67, 0.3), 0 1px 3px 1px rgba(60, 64, 67, 0.15);\n",
              "    fill: var(--button-hover-fill-color);\n",
              "  }\n",
              "\n",
              "  .colab-df-quickchart-complete:disabled,\n",
              "  .colab-df-quickchart-complete:disabled:hover {\n",
              "    background-color: var(--disabled-bg-color);\n",
              "    fill: var(--disabled-fill-color);\n",
              "    box-shadow: none;\n",
              "  }\n",
              "\n",
              "  .colab-df-spinner {\n",
              "    border: 2px solid var(--fill-color);\n",
              "    border-color: transparent;\n",
              "    border-bottom-color: var(--fill-color);\n",
              "    animation:\n",
              "      spin 1s steps(1) infinite;\n",
              "  }\n",
              "\n",
              "  @keyframes spin {\n",
              "    0% {\n",
              "      border-color: transparent;\n",
              "      border-bottom-color: var(--fill-color);\n",
              "      border-left-color: var(--fill-color);\n",
              "    }\n",
              "    20% {\n",
              "      border-color: transparent;\n",
              "      border-left-color: var(--fill-color);\n",
              "      border-top-color: var(--fill-color);\n",
              "    }\n",
              "    30% {\n",
              "      border-color: transparent;\n",
              "      border-left-color: var(--fill-color);\n",
              "      border-top-color: var(--fill-color);\n",
              "      border-right-color: var(--fill-color);\n",
              "    }\n",
              "    40% {\n",
              "      border-color: transparent;\n",
              "      border-right-color: var(--fill-color);\n",
              "      border-top-color: var(--fill-color);\n",
              "    }\n",
              "    60% {\n",
              "      border-color: transparent;\n",
              "      border-right-color: var(--fill-color);\n",
              "    }\n",
              "    80% {\n",
              "      border-color: transparent;\n",
              "      border-right-color: var(--fill-color);\n",
              "      border-bottom-color: var(--fill-color);\n",
              "    }\n",
              "    90% {\n",
              "      border-color: transparent;\n",
              "      border-bottom-color: var(--fill-color);\n",
              "    }\n",
              "  }\n",
              "</style>\n",
              "\n",
              "  <script>\n",
              "    async function quickchart(key) {\n",
              "      const quickchartButtonEl =\n",
              "        document.querySelector('#' + key + ' button');\n",
              "      quickchartButtonEl.disabled = true;  // To prevent multiple clicks.\n",
              "      quickchartButtonEl.classList.add('colab-df-spinner');\n",
              "      try {\n",
              "        const charts = await google.colab.kernel.invokeFunction(\n",
              "            'suggestCharts', [key], {});\n",
              "      } catch (error) {\n",
              "        console.error('Error during call to suggestCharts:', error);\n",
              "      }\n",
              "      quickchartButtonEl.classList.remove('colab-df-spinner');\n",
              "      quickchartButtonEl.classList.add('colab-df-quickchart-complete');\n",
              "    }\n",
              "    (() => {\n",
              "      let quickchartButtonEl =\n",
              "        document.querySelector('#df-77d25cbc-3bbe-4edb-8ad9-e66e6f10984f button');\n",
              "      quickchartButtonEl.style.display =\n",
              "        google.colab.kernel.accessAllowed ? 'block' : 'none';\n",
              "    })();\n",
              "  </script>\n",
              "</div>\n",
              "    </div>\n",
              "  </div>\n"
            ]
          },
          "metadata": {},
          "execution_count": 40
        }
      ]
    },
    {
      "cell_type": "markdown",
      "source": [
        "#Visualization"
      ],
      "metadata": {
        "id": "dVgwNBwdhtoJ"
      }
    },
    {
      "cell_type": "code",
      "source": [
        "CostDataframe"
      ],
      "metadata": {
        "id": "ZQLi3HuHhxO3"
      },
      "execution_count": null,
      "outputs": []
    },
    {
      "cell_type": "code",
      "source": [
        "FEATUREPURCHASEMETRICS_DF"
      ],
      "metadata": {
        "id": "I0CIYdCmiOOE"
      },
      "execution_count": null,
      "outputs": []
    },
    {
      "cell_type": "code",
      "source": [
        "# Create the DataFrame\n",
        "df = FEATUREPURCHASEMETRICS_DF\n",
        "\n",
        "# Pivot the DataFrame to get the data in the format suitable for grouped bar chart\n",
        "pivot_df = df.pivot(index='timestamp', columns='FeatureBuyChoice', values='Purchased Feature count')\n",
        "\n",
        "# Create the grouped bar chart\n",
        "bar_width = 0.25  # Narrower bars for more spacing\n",
        "index = np.arange(len(pivot_df.index))\n",
        "\n",
        "# Increase the figure size for a bigger chart\n",
        "fig, ax = plt.subplots(figsize=(12, 8))\n",
        "\n",
        "bar1 = ax.bar(index, pivot_df['purchase4'], bar_width, label='purchase4')\n",
        "bar2 = ax.bar(index + bar_width, pivot_df['purchase5'], bar_width, label='purchase5')\n",
        "bar3 = ax.bar(index + 2*bar_width, pivot_df['purchase6'], bar_width, label='purchase6')\n",
        "\n",
        "# Add labels and title\n",
        "ax.set_xlabel('Timestamp')\n",
        "ax.set_ylabel('Purchased Feature Count')\n",
        "ax.set_title('Grouped Bar Chart of Purchase Features Sale by daily frequency')\n",
        "\n",
        "# Adjust x-ticks for better visibility and spacing\n",
        "ax.set_xticks(index + bar_width)\n",
        "ax.set_xticklabels(pivot_df.index, rotation=45)  # Tilt x-labels for better visibility\n",
        "\n",
        "ax.legend()\n",
        "\n",
        "# Show the plot\n",
        "plt.show()"
      ],
      "metadata": {
        "colab": {
          "base_uri": "https://localhost:8080/",
          "height": 783
        },
        "id": "gSfMKvagixmW",
        "outputId": "50767a54-c3fa-4cd6-e852-39412a6f4724"
      },
      "execution_count": 16,
      "outputs": [
        {
          "output_type": "display_data",
          "data": {
            "text/plain": [
              "<Figure size 1200x800 with 1 Axes>"
            ],
            "image/png": "[encoded data removed]"
          },
          "metadata": {}
        }
      ]
    },
    {
      "cell_type": "code",
      "source": [
        "# Create the DataFrame for purchase counts\n",
        "df_counts = FEATUREPURCHASEMETRICS_DF\n",
        "\n",
        "# Create the DataFrame for costs\n",
        "df_costs = CostDataframe\n",
        "\n",
        "# Merge the two DataFrames\n",
        "merged_df = pd.merge(df_counts, df_costs, left_on='FeatureBuyChoice', right_on='Purchase')\n",
        "\n",
        "# Calculate the total cost for each purchase\n",
        "merged_df['Total Cost'] = merged_df['Purchased Feature count'] * merged_df['Cost']\n",
        "\n",
        "# Group by timestamp and sum the total costs\n",
        "grouped_df = merged_df.groupby('timestamp')['Total Cost'].sum().reset_index()\n",
        "\n",
        "# Pivot the DataFrame for stacked bar chart\n",
        "pivot_df = merged_df.pivot(index='timestamp', columns='FeatureBuyChoice', values='Total Cost')\n",
        "\n",
        "# Increase the figure size for a bigger chart\n",
        "fig, ax = plt.subplots(figsize=(12, 8))\n",
        "\n",
        "# Plot the total costs as stacked bars\n",
        "ax.bar(grouped_df['timestamp'], pivot_df['purchase4'], label='purchase4')\n",
        "ax.bar(grouped_df['timestamp'], pivot_df['purchase5'], bottom=pivot_df['purchase4'], label='purchase5')\n",
        "ax.bar(grouped_df['timestamp'], pivot_df['purchase6'], bottom=pivot_df['purchase4'] + pivot_df['purchase5'], label='purchase6')\n",
        "\n",
        "# Add labels and title\n",
        "ax.set_xlabel('Timestamp')\n",
        "ax.set_ylabel('Total Cost per Day')\n",
        "ax.set_title('Stacked Bar Chart of Total Cost per Day by FeatureBuyChoice')\n",
        "ax.legend()\n",
        "\n",
        "# Adjust x-ticks for better visibility and spacing\n",
        "ax.set_xticklabels(pivot_df.index, rotation=45)  # Tilt x-labels for better visibility\n",
        "\n",
        "# Show the plot\n",
        "plt.show()"
      ],
      "metadata": {
        "colab": {
          "base_uri": "https://localhost:8080/",
          "height": 819
        },
        "id": "fjnmpVy-jvc6",
        "outputId": "6fc6c7c2-d352-43fc-9431-9ae200351547"
      },
      "execution_count": 19,
      "outputs": [
        {
          "output_type": "stream",
          "name": "stderr",
          "text": [
            "<ipython-input-19-75ad48bd1e82>:34: UserWarning: FixedFormatter should only be used together with FixedLocator\n",
            "  ax.set_xticklabels(pivot_df.index, rotation=45)  # Tilt x-labels for better visibility\n"
          ]
        },
        {
          "output_type": "display_data",
          "data": {
            "text/plain": [
              "<Figure size 1200x800 with 1 Axes>"
            ],
            "image/png": "[encoded data removed]"
          },
          "metadata": {}
        }
      ]
    },
    {
      "cell_type": "code",
      "source": [
        "# Merge the two DataFrames to calculate total revenue\n",
        "merged_df = pd.merge(FEATUREPURCHASEMETRICS_DF, CostDataframe, left_on='FeatureBuyChoice', right_on='Purchase')\n",
        "merged_df['Total Revenue'] = merged_df['Purchased Feature count'] * merged_df['Cost']\n",
        "\n",
        "# Calculate total revenue for each category\n",
        "total_revenue_by_category = merged_df.groupby('FeatureBuyChoice')['Total Revenue'].sum()\n",
        "\n",
        "# Create the pie chart\n",
        "fig, ax = plt.subplots()\n",
        "\n",
        "ax.pie(total_revenue_by_category, labels=total_revenue_by_category.index, autopct='%1.1f%%', startangle=90)\n",
        "ax.axis('equal')  # Equal aspect ratio ensures that pie is drawn as a circle.\n",
        "\n",
        "# Add title\n",
        "ax.set_title('Total Revenue by FeatureBuyChoice')\n",
        "\n",
        "# Show the plot\n",
        "plt.show()"
      ],
      "metadata": {
        "colab": {
          "base_uri": "https://localhost:8080/",
          "height": 428
        },
        "id": "1V1Qs_jTmNl5",
        "outputId": "01cb7965-8bd0-4f19-9691-e0909971c484"
      },
      "execution_count": 21,
      "outputs": [
        {
          "output_type": "display_data",
          "data": {
            "text/plain": [
              "<Figure size 640x480 with 1 Axes>"
            ],
            "image/png": "[encoded data removed]"
          },
          "metadata": {}
        }
      ]
    }
  ]
}