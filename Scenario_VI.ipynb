{
  "nbformat": 4,
  "nbformat_minor": 0,
  "metadata": {
    "colab": {
      "provenance": [],
      "authorship_tag": "ABX9TyOrfhxxLxLaLEY5KntWnDB/",
      "include_colab_link": true
    },
    "kernelspec": {
      "name": "python3",
      "display_name": "Python 3"
    },
    "language_info": {
      "name": "python"
    }
  },
  "cells": [
    {
      "cell_type": "markdown",
      "metadata": {
        "id": "view-in-github",
        "colab_type": "text"
      },
      "source": [
        "<a href=\"https://colab.research.google.com/github/as-bestinclass/anand4MahiGaming/blob/main/Scenario_VI.ipynb\" target=\"_parent\"><img src=\"https://colab.research.google.com/assets/colab-badge.svg\" alt=\"Open In Colab\"/></a>"
      ]
    },
    {
      "cell_type": "markdown",
      "source": [
        "##### Dependencies"
      ],
      "metadata": {
        "id": "tE-nE95hntgz"
      }
    },
    {
      "cell_type": "code",
      "source": [
        "import pandas as pd\n",
        "import requests\n",
        "import matplotlib.pyplot as pyplt\n",
        "import seaborn as sborn"
      ],
      "metadata": {
        "id": "JJ_S1lS8iJRi"
      },
      "execution_count": 201,
      "outputs": []
    },
    {
      "cell_type": "markdown",
      "source": [
        "#### Function to Retrieve Data thru API"
      ],
      "metadata": {
        "id": "dCjcWDweiNcc"
      }
    },
    {
      "cell_type": "code",
      "source": [
        "#Defining a funciton to retrieve JSON Data when Co-ordinates are passed as Dict\n",
        "def getForecastData(querystring):\n",
        "  url = \"https://weatherapi-com.p.rapidapi.com/current.json\"\n",
        "  querystring = querystring\n",
        "  #Auth (Replace myKey with your personal key)\n",
        "  headers = {\n",
        "    \"X-RapidAPI-Key\": \"923dfd732emsh0c960719519f97bp1abb19jsn8cae00d9f125\",\n",
        "    \"X-RapidAPI-Host\": \"weatherapi-com.p.rapidapi.com\"\n",
        "  }\n",
        "  #Loading response from the applied parameters\n",
        "  response = requests.get(url, headers=headers, params=querystring)\n",
        "  #Printing the data-type responsed from JSON\n",
        "  print('You got a JSON return of datatype ', type(response.json()))\n",
        "  #returning value of JSON\n",
        "  return(response.json())"
      ],
      "metadata": {
        "id": "ecf8ybUyfLZM"
      },
      "execution_count": null,
      "outputs": []
    },
    {
      "cell_type": "markdown",
      "source": [
        "#### Function to make a query with custom parameter"
      ],
      "metadata": {
        "id": "O1MpVmYfnk95"
      }
    },
    {
      "cell_type": "code",
      "source": [
        "#Code to make Custom query\n",
        "coordinatesX = input(\"Enter 'Latitude as Float': \")\n",
        "coordinatesY = input(\"Enter 'Longitude as Float': \")\n",
        "coordinates = {\"q\":(coordinatesX,coordinatesY)}\n",
        "\n",
        "\n",
        "# querystring = {\"q\":\"53.1,-0.13\"} has this format\n",
        "json_str1 = getForecastData(coordinates)"
      ],
      "metadata": {
        "id": "dMo7YxKOitYs"
      },
      "execution_count": null,
      "outputs": []
    },
    {
      "cell_type": "code",
      "source": [
        "#Code to make Custom query\n",
        "coordinatesX = input(\"Enter 'Latitude as Float': \")\n",
        "coordinatesY = input(\"Enter 'Longitude as Float': \")\n",
        "coordinates = {\"q\":(coordinatesX,coordinatesY)}\n",
        "\n",
        "\n",
        "# querystring = {\"q\":\"45.3,-0.15\"} has this format\n",
        "json_str2 = getForecastData(coordinates)"
      ],
      "metadata": {
        "id": "-Af4jNPapHm6"
      },
      "execution_count": null,
      "outputs": []
    },
    {
      "cell_type": "code",
      "source": [
        "#Code to make Custom query\n",
        "coordinatesX = input(\"Enter 'Latitude as Float': \")\n",
        "coordinatesY = input(\"Enter 'Longitude as Float': \")\n",
        "coordinates = {\"q\":(coordinatesX,coordinatesY)}\n",
        "\n",
        "\n",
        "# querystring = {\"q\":\"51,5\"} has this format\n",
        "json_str3 = getForecastData(coordinates)"
      ],
      "metadata": {
        "id": "n6wzGiJTxl8D"
      },
      "execution_count": null,
      "outputs": []
    },
    {
      "cell_type": "code",
      "source": [
        "#Code to make Custom query\n",
        "coordinatesX = input(\"Enter 'Latitude as Float': \")\n",
        "coordinatesY = input(\"Enter 'Longitude as Float': \")\n",
        "coordinates = {\"q\":(coordinatesX,coordinatesY)}\n",
        "\n",
        "\n",
        "# querystring = {\"q\":\"40,1\"} has this format\n",
        "json_str4 = getForecastData(coordinates)"
      ],
      "metadata": {
        "id": "1exc4oKOx4lQ"
      },
      "execution_count": null,
      "outputs": []
    },
    {
      "cell_type": "markdown",
      "source": [
        "#### Raw JSON Output"
      ],
      "metadata": {
        "id": "Itb4NPVIobKG"
      }
    },
    {
      "cell_type": "code",
      "source": [
        "print(json_str1)"
      ],
      "metadata": {
        "id": "KZxjUleNoZFl"
      },
      "execution_count": null,
      "outputs": []
    },
    {
      "cell_type": "code",
      "source": [
        "print(json_str2)"
      ],
      "metadata": {
        "id": "edeBrZsEs2cF"
      },
      "execution_count": null,
      "outputs": []
    },
    {
      "cell_type": "code",
      "source": [
        "print(json_str3)"
      ],
      "metadata": {
        "id": "x1wVvVkVx0nI"
      },
      "execution_count": null,
      "outputs": []
    },
    {
      "cell_type": "code",
      "source": [
        "print(json_str4)"
      ],
      "metadata": {
        "id": "Q6JErHoAyDEH"
      },
      "execution_count": null,
      "outputs": []
    },
    {
      "cell_type": "markdown",
      "source": [
        "#### Vizualization"
      ],
      "metadata": {
        "id": "F3P2dqU-ohbt"
      }
    },
    {
      "cell_type": "code",
      "source": [
        "data_list = [json_str1, json_str2, json_str3, json_str4]"
      ],
      "metadata": {
        "id": "FOf4FJNVv-Tv"
      },
      "execution_count": null,
      "outputs": []
    },
    {
      "cell_type": "markdown",
      "source": [
        "##### Temp"
      ],
      "metadata": {
        "id": "cG5uZJCKyrbe"
      }
    },
    {
      "cell_type": "code",
      "source": [
        "#initializing list for data collection\n",
        "temperatures_list = []\n",
        "locations_list = []\n",
        "\n",
        "#extracting data from Json to plot\n",
        "for each in data_list:\n",
        "    location = each['location']['name']\n",
        "    temp_c = each['current']['temp_c']\n",
        "    locations_list.append(location)\n",
        "    temperatures_list.append(temp_c)\n",
        "\n",
        "#plotting chart to viz metrics difference\n",
        "pyplt.bar(locations_list, temperatures_list, color='#5e6c62')\n",
        "pyplt.title('Temperature Vs Location')\n",
        "pyplt.xlabel('City')\n",
        "pyplt.ylabel('Temperature in °Celcius')\n",
        "pyplt.show()"
      ],
      "metadata": {
        "id": "LE8ZY1eFv6gQ"
      },
      "execution_count": null,
      "outputs": []
    },
    {
      "cell_type": "markdown",
      "source": [
        "##### Humidities"
      ],
      "metadata": {
        "id": "KJlSMOwZyt8M"
      }
    },
    {
      "cell_type": "code",
      "source": [
        "#initializing list for data collection\n",
        "humidities_list = []\n",
        "\n",
        "#extracting data from Json to plot\n",
        "for each in data_list:\n",
        "    humidity = each['current']['humidity']\n",
        "    humidities_list.append(humidity)\n",
        "\n",
        "#plotting chart to viz metrics difference\n",
        "pyplt.bar(locations_list, humidities_list, color='#7e8981')\n",
        "pyplt.title('Humidity Vs Location')\n",
        "pyplt.xlabel('City')\n",
        "pyplt.ylabel('Humidity in Percentage (%)')\n",
        "pyplt.show()"
      ],
      "metadata": {
        "id": "Dq_3dJ-WwJEh"
      },
      "execution_count": null,
      "outputs": []
    },
    {
      "cell_type": "markdown",
      "source": [
        "##### Wind Speed"
      ],
      "metadata": {
        "id": "XddBxMRJzZy3"
      }
    },
    {
      "cell_type": "code",
      "source": [
        "#initializing list for data collection\n",
        "wind_speeds_list = []\n",
        "\n",
        "#extracting data from Json to plot\n",
        "for json_dict in data_list:\n",
        "    wind_speed = json_dict['current']['wind_kph']\n",
        "    wind_speeds_list.append(wind_speed)\n",
        "\n",
        "#plotting chart to viz metrics difference\n",
        "pyplt.bar(locations_list, wind_speeds_list, color='#9ea7a1')\n",
        "pyplt.title('Wind Speed VS Location')\n",
        "pyplt.xlabel('City')\n",
        "pyplt.ylabel('Wind Speed in Kilometers Per Hour')\n",
        "pyplt.show()"
      ],
      "metadata": {
        "id": "mP90VNaLwRCv"
      },
      "execution_count": null,
      "outputs": []
    },
    {
      "cell_type": "code",
      "source": [
        "#initializing list for data collection\n",
        "pressures_list = []\n",
        "\n",
        "#extracting data from Json to plot\n",
        "for json_dict in data_list:\n",
        "    pressure = json_dict['current']['pressure_mb']\n",
        "    pressures_list.append(pressure)\n",
        "\n",
        "#plotting chart to viz metrics difference\n",
        "pyplt.bar(locations_list, pressures_list, color='#bfc4c0')\n",
        "pyplt.title('Atmospheric Pressure VS Location')\n",
        "pyplt.xlabel('City')\n",
        "pyplt.ylabel('Pressure in Millibars')\n",
        "pyplt.show()"
      ],
      "metadata": {
        "id": "zMvm3eXiwTgw"
      },
      "execution_count": null,
      "outputs": []
    },
    {
      "cell_type": "code",
      "source": [
        "#initializing list for data collection\n",
        "visibilities_list = []\n",
        "\n",
        "#extracting data from Json to plot\n",
        "for json_dict in data_list:\n",
        "    visibility = json_dict['current']['vis_km']\n",
        "    visibilities_list.append(visibility)\n",
        "\n",
        "#plotting chart to viz metrics difference\n",
        "pyplt.bar(locations_list, visibilities_list, color='#dfe2e0')\n",
        "pyplt.title('Visibility VS Location')\n",
        "pyplt.xlabel('City')\n",
        "pyplt.ylabel('Visibility in Kilometer')\n",
        "pyplt.show()"
      ],
      "metadata": {
        "id": "hT4sk0jswWoA"
      },
      "execution_count": null,
      "outputs": []
    }
  ]
}