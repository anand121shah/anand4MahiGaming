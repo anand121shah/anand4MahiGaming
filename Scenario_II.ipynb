{
  "nbformat": 4,
  "nbformat_minor": 0,
  "metadata": {
    "colab": {
      "provenance": [],
      "authorship_tag": "ABX9TyMW9FhKr5BIDT6qB1Nb6KkD",
      "include_colab_link": true
    },
    "kernelspec": {
      "name": "python3",
      "display_name": "Python 3"
    },
    "language_info": {
      "name": "python"
    }
  },
  "cells": [
    {
      "cell_type": "markdown",
      "metadata": {
        "id": "view-in-github",
        "colab_type": "text"
      },
      "source": [
        "<a href=\"https://colab.research.google.com/github/as-bestinclass/anand4MahiGaming/blob/main/Scenario_II.ipynb\" target=\"_parent\"><img src=\"https://colab.research.google.com/assets/colab-badge.svg\" alt=\"Open In Colab\"/></a>"
      ]
    },
    {
      "cell_type": "markdown",
      "source": [
        "#### Dependencies"
      ],
      "metadata": {
        "id": "mOIaS71RP7N4"
      }
    },
    {
      "cell_type": "code",
      "source": [
        "import pandas as pd\n",
        "import numpy as np\n",
        "import matplotlib.pyplot as pyplt\n",
        "from sklearn.linear_model import LinearRegression\n",
        "from statsmodels.tsa.arima.model import ARIMA\n",
        "from datetime import datetime, timedelta\n",
        "\n",
        "import warnings\n",
        "from statsmodels.tools.sm_exceptions import ValueWarning\n",
        "\n",
        "# Ignore the specific ValueWarning from statsmodels\n",
        "warnings.filterwarnings(\"ignore\", category=ValueWarning)"
      ],
      "metadata": {
        "id": "Ej7UdbBMP7uM"
      },
      "execution_count": 1,
      "outputs": []
    },
    {
      "cell_type": "markdown",
      "source": [
        "#Scenario II\n",
        "Question: Forecast if the number of spins will go up or down.  \n",
        "Explain what forecasting method/algorithm you used.\n",
        "Provide a visualization of the data.\n",
        "The data point collected on 6/3/2022 and 6/10/2022 are not full day data points."
      ],
      "metadata": {
        "id": "dawFwkwH4n6u"
      }
    },
    {
      "cell_type": "markdown",
      "source": [
        "##Loading Data"
      ],
      "metadata": {
        "id": "vm5pyPbD41Z_"
      }
    },
    {
      "cell_type": "code",
      "execution_count": 2,
      "metadata": {
        "id": "2dClyvN33jdW",
        "colab": {
          "base_uri": "https://localhost:8080/",
          "height": 206
        },
        "outputId": "584a0e7c-9d23-4d97-c4c4-5a58fa8afda4"
      },
      "outputs": [
        {
          "output_type": "execute_result",
          "data": {
            "text/plain": [
              "       timestamp    Spins\n",
              "0  6/3/2022 0:00  1258427\n",
              "1  6/4/2022 0:00  2502763\n",
              "2  6/5/2022 0:00  2150601\n",
              "3  6/6/2022 0:00  2125557\n",
              "4  6/7/2022 0:00  6858133"
            ],
            "text/html": [
              "\n",
              "  <div id=\"df-b7c3e59b-068e-4895-884c-f1f38d21ae15\" class=\"colab-df-container\">\n",
              "    <div>\n",
              "<style scoped>\n",
              "    .dataframe tbody tr th:only-of-type {\n",
              "        vertical-align: middle;\n",
              "    }\n",
              "\n",
              "    .dataframe tbody tr th {\n",
              "        vertical-align: top;\n",
              "    }\n",
              "\n",
              "    .dataframe thead th {\n",
              "        text-align: right;\n",
              "    }\n",
              "</style>\n",
              "<table border=\"1\" class=\"dataframe\">\n",
              "  <thead>\n",
              "    <tr style=\"text-align: right;\">\n",
              "      <th></th>\n",
              "      <th>timestamp</th>\n",
              "      <th>Spins</th>\n",
              "    </tr>\n",
              "  </thead>\n",
              "  <tbody>\n",
              "    <tr>\n",
              "      <th>0</th>\n",
              "      <td>6/3/2022 0:00</td>\n",
              "      <td>1258427</td>\n",
              "    </tr>\n",
              "    <tr>\n",
              "      <th>1</th>\n",
              "      <td>6/4/2022 0:00</td>\n",
              "      <td>2502763</td>\n",
              "    </tr>\n",
              "    <tr>\n",
              "      <th>2</th>\n",
              "      <td>6/5/2022 0:00</td>\n",
              "      <td>2150601</td>\n",
              "    </tr>\n",
              "    <tr>\n",
              "      <th>3</th>\n",
              "      <td>6/6/2022 0:00</td>\n",
              "      <td>2125557</td>\n",
              "    </tr>\n",
              "    <tr>\n",
              "      <th>4</th>\n",
              "      <td>6/7/2022 0:00</td>\n",
              "      <td>6858133</td>\n",
              "    </tr>\n",
              "  </tbody>\n",
              "</table>\n",
              "</div>\n",
              "    <div class=\"colab-df-buttons\">\n",
              "\n",
              "  <div class=\"colab-df-container\">\n",
              "    <button class=\"colab-df-convert\" onclick=\"convertToInteractive('df-b7c3e59b-068e-4895-884c-f1f38d21ae15')\"\n",
              "            title=\"Convert this dataframe to an interactive table.\"\n",
              "            style=\"display:none;\">\n",
              "\n",
              "  <svg xmlns=\"http://www.w3.org/2000/svg\" height=\"24px\" viewBox=\"0 -960 960 960\">\n",
              "    <path d=\"M120-120v-720h720v720H120Zm60-500h600v-160H180v160Zm220 220h160v-160H400v160Zm0 220h160v-160H400v160ZM180-400h160v-160H180v160Zm440 0h160v-160H620v160ZM180-180h160v-160H180v160Zm440 0h160v-160H620v160Z\"/>\n",
              "  </svg>\n",
              "    </button>\n",
              "\n",
              "  <style>\n",
              "    .colab-df-container {\n",
              "      display:flex;\n",
              "      gap: 12px;\n",
              "    }\n",
              "\n",
              "    .colab-df-convert {\n",
              "      background-color: #E8F0FE;\n",
              "      border: none;\n",
              "      border-radius: 50%;\n",
              "      cursor: pointer;\n",
              "      display: none;\n",
              "      fill: #1967D2;\n",
              "      height: 32px;\n",
              "      padding: 0 0 0 0;\n",
              "      width: 32px;\n",
              "    }\n",
              "\n",
              "    .colab-df-convert:hover {\n",
              "      background-color: #E2EBFA;\n",
              "      box-shadow: 0px 1px 2px rgba(60, 64, 67, 0.3), 0px 1px 3px 1px rgba(60, 64, 67, 0.15);\n",
              "      fill: #174EA6;\n",
              "    }\n",
              "\n",
              "    .colab-df-buttons div {\n",
              "      margin-bottom: 4px;\n",
              "    }\n",
              "\n",
              "    [theme=dark] .colab-df-convert {\n",
              "      background-color: #3B4455;\n",
              "      fill: #D2E3FC;\n",
              "    }\n",
              "\n",
              "    [theme=dark] .colab-df-convert:hover {\n",
              "      background-color: #434B5C;\n",
              "      box-shadow: 0px 1px 3px 1px rgba(0, 0, 0, 0.15);\n",
              "      filter: drop-shadow(0px 1px 2px rgba(0, 0, 0, 0.3));\n",
              "      fill: #FFFFFF;\n",
              "    }\n",
              "  </style>\n",
              "\n",
              "    <script>\n",
              "      const buttonEl =\n",
              "        document.querySelector('#df-b7c3e59b-068e-4895-884c-f1f38d21ae15 button.colab-df-convert');\n",
              "      buttonEl.style.display =\n",
              "        google.colab.kernel.accessAllowed ? 'block' : 'none';\n",
              "\n",
              "      async function convertToInteractive(key) {\n",
              "        const element = document.querySelector('#df-b7c3e59b-068e-4895-884c-f1f38d21ae15');\n",
              "        const dataTable =\n",
              "          await google.colab.kernel.invokeFunction('convertToInteractive',\n",
              "                                                    [key], {});\n",
              "        if (!dataTable) return;\n",
              "\n",
              "        const docLinkHtml = 'Like what you see? Visit the ' +\n",
              "          '<a target=\"_blank\" href=https://colab.research.google.com/notebooks/data_table.ipynb>data table notebook</a>'\n",
              "          + ' to learn more about interactive tables.';\n",
              "        element.innerHTML = '';\n",
              "        dataTable['output_type'] = 'display_data';\n",
              "        await google.colab.output.renderOutput(dataTable, element);\n",
              "        const docLink = document.createElement('div');\n",
              "        docLink.innerHTML = docLinkHtml;\n",
              "        element.appendChild(docLink);\n",
              "      }\n",
              "    </script>\n",
              "  </div>\n",
              "\n",
              "\n",
              "<div id=\"df-b50a8f68-9158-4d84-b5c3-bad8286ef1a5\">\n",
              "  <button class=\"colab-df-quickchart\" onclick=\"quickchart('df-b50a8f68-9158-4d84-b5c3-bad8286ef1a5')\"\n",
              "            title=\"Suggest charts.\"\n",
              "            style=\"display:none;\">\n",
              "\n",
              "<svg xmlns=\"http://www.w3.org/2000/svg\" height=\"24px\"viewBox=\"0 0 24 24\"\n",
              "     width=\"24px\">\n",
              "    <g>\n",
              "        <path d=\"M19 3H5c-1.1 0-2 .9-2 2v14c0 1.1.9 2 2 2h14c1.1 0 2-.9 2-2V5c0-1.1-.9-2-2-2zM9 17H7v-7h2v7zm4 0h-2V7h2v10zm4 0h-2v-4h2v4z\"/>\n",
              "    </g>\n",
              "</svg>\n",
              "  </button>\n",
              "\n",
              "<style>\n",
              "  .colab-df-quickchart {\n",
              "      --bg-color: #E8F0FE;\n",
              "      --fill-color: #1967D2;\n",
              "      --hover-bg-color: #E2EBFA;\n",
              "      --hover-fill-color: #174EA6;\n",
              "      --disabled-fill-color: #AAA;\n",
              "      --disabled-bg-color: #DDD;\n",
              "  }\n",
              "\n",
              "  [theme=dark] .colab-df-quickchart {\n",
              "      --bg-color: #3B4455;\n",
              "      --fill-color: #D2E3FC;\n",
              "      --hover-bg-color: #434B5C;\n",
              "      --hover-fill-color: #FFFFFF;\n",
              "      --disabled-bg-color: #3B4455;\n",
              "      --disabled-fill-color: #666;\n",
              "  }\n",
              "\n",
              "  .colab-df-quickchart {\n",
              "    background-color: var(--bg-color);\n",
              "    border: none;\n",
              "    border-radius: 50%;\n",
              "    cursor: pointer;\n",
              "    display: none;\n",
              "    fill: var(--fill-color);\n",
              "    height: 32px;\n",
              "    padding: 0;\n",
              "    width: 32px;\n",
              "  }\n",
              "\n",
              "  .colab-df-quickchart:hover {\n",
              "    background-color: var(--hover-bg-color);\n",
              "    box-shadow: 0 1px 2px rgba(60, 64, 67, 0.3), 0 1px 3px 1px rgba(60, 64, 67, 0.15);\n",
              "    fill: var(--button-hover-fill-color);\n",
              "  }\n",
              "\n",
              "  .colab-df-quickchart-complete:disabled,\n",
              "  .colab-df-quickchart-complete:disabled:hover {\n",
              "    background-color: var(--disabled-bg-color);\n",
              "    fill: var(--disabled-fill-color);\n",
              "    box-shadow: none;\n",
              "  }\n",
              "\n",
              "  .colab-df-spinner {\n",
              "    border: 2px solid var(--fill-color);\n",
              "    border-color: transparent;\n",
              "    border-bottom-color: var(--fill-color);\n",
              "    animation:\n",
              "      spin 1s steps(1) infinite;\n",
              "  }\n",
              "\n",
              "  @keyframes spin {\n",
              "    0% {\n",
              "      border-color: transparent;\n",
              "      border-bottom-color: var(--fill-color);\n",
              "      border-left-color: var(--fill-color);\n",
              "    }\n",
              "    20% {\n",
              "      border-color: transparent;\n",
              "      border-left-color: var(--fill-color);\n",
              "      border-top-color: var(--fill-color);\n",
              "    }\n",
              "    30% {\n",
              "      border-color: transparent;\n",
              "      border-left-color: var(--fill-color);\n",
              "      border-top-color: var(--fill-color);\n",
              "      border-right-color: var(--fill-color);\n",
              "    }\n",
              "    40% {\n",
              "      border-color: transparent;\n",
              "      border-right-color: var(--fill-color);\n",
              "      border-top-color: var(--fill-color);\n",
              "    }\n",
              "    60% {\n",
              "      border-color: transparent;\n",
              "      border-right-color: var(--fill-color);\n",
              "    }\n",
              "    80% {\n",
              "      border-color: transparent;\n",
              "      border-right-color: var(--fill-color);\n",
              "      border-bottom-color: var(--fill-color);\n",
              "    }\n",
              "    90% {\n",
              "      border-color: transparent;\n",
              "      border-bottom-color: var(--fill-color);\n",
              "    }\n",
              "  }\n",
              "</style>\n",
              "\n",
              "  <script>\n",
              "    async function quickchart(key) {\n",
              "      const quickchartButtonEl =\n",
              "        document.querySelector('#' + key + ' button');\n",
              "      quickchartButtonEl.disabled = true;  // To prevent multiple clicks.\n",
              "      quickchartButtonEl.classList.add('colab-df-spinner');\n",
              "      try {\n",
              "        const charts = await google.colab.kernel.invokeFunction(\n",
              "            'suggestCharts', [key], {});\n",
              "      } catch (error) {\n",
              "        console.error('Error during call to suggestCharts:', error);\n",
              "      }\n",
              "      quickchartButtonEl.classList.remove('colab-df-spinner');\n",
              "      quickchartButtonEl.classList.add('colab-df-quickchart-complete');\n",
              "    }\n",
              "    (() => {\n",
              "      let quickchartButtonEl =\n",
              "        document.querySelector('#df-b50a8f68-9158-4d84-b5c3-bad8286ef1a5 button');\n",
              "      quickchartButtonEl.style.display =\n",
              "        google.colab.kernel.accessAllowed ? 'block' : 'none';\n",
              "    })();\n",
              "  </script>\n",
              "</div>\n",
              "    </div>\n",
              "  </div>\n"
            ]
          },
          "metadata": {},
          "execution_count": 2
        }
      ],
      "source": [
        "#Loading Data into Dataframe\n",
        "SPINS_DF = pd.read_csv('/content/Scenario II.csv')\n",
        "SPINS_DF.head()"
      ]
    },
    {
      "cell_type": "code",
      "source": [
        "#Checking datatype in the dataframe\n",
        "SPINS_DF.dtypes"
      ],
      "metadata": {
        "colab": {
          "base_uri": "https://localhost:8080/"
        },
        "id": "vhVp6wtlQUeL",
        "outputId": "ca7bbcc1-8946-4c8f-c268-1930d4b9e81d"
      },
      "execution_count": 3,
      "outputs": [
        {
          "output_type": "execute_result",
          "data": {
            "text/plain": [
              "timestamp    object\n",
              "Spins         int64\n",
              "dtype: object"
            ]
          },
          "metadata": {},
          "execution_count": 3
        }
      ]
    },
    {
      "cell_type": "code",
      "source": [
        "#Converting timestamps into right data type\n",
        "SPINS_DF['timestamp'] = pd.to_datetime(SPINS_DF['timestamp'], format='%m/%d/%Y %H:%M')\n",
        "SPINS_DF['timestamp']"
      ],
      "metadata": {
        "id": "oav7auM46x4r",
        "colab": {
          "base_uri": "https://localhost:8080/"
        },
        "outputId": "e3f7f034-4177-4363-be62-a48bd83c35d0"
      },
      "execution_count": 4,
      "outputs": [
        {
          "output_type": "execute_result",
          "data": {
            "text/plain": [
              "0   2022-06-03\n",
              "1   2022-06-04\n",
              "2   2022-06-05\n",
              "3   2022-06-06\n",
              "4   2022-06-07\n",
              "5   2022-06-08\n",
              "6   2022-06-09\n",
              "7   2022-06-10\n",
              "Name: timestamp, dtype: datetime64[ns]"
            ]
          },
          "metadata": {},
          "execution_count": 4
        }
      ]
    },
    {
      "cell_type": "markdown",
      "source": [
        "##Visualizing Current Data"
      ],
      "metadata": {
        "id": "iUSqtoeI5l3A"
      }
    },
    {
      "cell_type": "code",
      "source": [
        "#setting up chart size\n",
        "pyplt.figure(figsize=(5, 5))\n",
        "\n",
        "#scatterplot of the loaded data\n",
        "pyplt.scatter(x=SPINS_DF['timestamp'], y=SPINS_DF['Spins'])\n",
        "\n",
        "\n",
        "# Retrieveing Current y lables [since yticks are mutlidimentional, i am only retrieving quantity values from y]\n",
        "labels_content, remaining_args = pyplt.yticks()\n",
        "# Making sure current y lables are not truncated\n",
        "pyplt.yticks(labels_content, labels=labels_content)\n",
        "\n",
        "#Displaying the chart\n",
        "pyplt.title('Scatter Plot of the Loaded Data')\n",
        "pyplt.grid(True)\n",
        "pyplt.xticks(rotation=45)\n",
        "pyplt.show()"
      ],
      "metadata": {
        "colab": {
          "base_uri": "https://localhost:8080/",
          "height": 0
        },
        "id": "ngNe0aSG50iV",
        "outputId": "8ecd9daa-e738-4736-ef92-7f0ff3d59436"
      },
      "execution_count": 5,
      "outputs": [
        {
          "output_type": "display_data",
          "data": {
            "text/plain": [
              "<Figure size 500x500 with 1 Axes>"
            ],
            "image/png": "[encoded data removed]"
          },
          "metadata": {}
        }
      ]
    },
    {
      "cell_type": "code",
      "source": [
        "#setting up chart size\n",
        "pyplt.figure(figsize=(5, 5))\n",
        "\n",
        "#line-plot of the loaded data\n",
        "pyplt.plot(SPINS_DF['timestamp'],SPINS_DF['Spins'])\n",
        "\n",
        "# Retrieveing Current y lables [since yticks are mutlidimentional, i am only retrieving quantity values from y]\n",
        "labels_content, remaining_args = pyplt.yticks()\n",
        "# Making sure current y lables are not truncated\n",
        "pyplt.yticks(labels_content, labels=labels_content)\n",
        "\n",
        "#Displaying the chart\n",
        "pyplt.title('Line Chart of the Loaded Data')\n",
        "pyplt.grid(True)\n",
        "pyplt.xticks(rotation=45)\n",
        "pyplt.show()"
      ],
      "metadata": {
        "colab": {
          "base_uri": "https://localhost:8080/",
          "height": 0
        },
        "id": "o4Qc46WQS6fN",
        "outputId": "dd400901-e184-43a9-afc6-04035eec3281"
      },
      "execution_count": 6,
      "outputs": [
        {
          "output_type": "display_data",
          "data": {
            "text/plain": [
              "<Figure size 500x500 with 1 Axes>"
            ],
            "image/png": "[encoded data removed]"
          },
          "metadata": {}
        }
      ]
    },
    {
      "cell_type": "markdown",
      "source": [
        "## Predicting Trend"
      ],
      "metadata": {
        "id": "2KmTdfsAUKX3"
      }
    },
    {
      "cell_type": "markdown",
      "source": [
        "#### Exhibit A (Prediction Using Linear Regression)"
      ],
      "metadata": {
        "id": "li7es4svi37L"
      }
    },
    {
      "cell_type": "code",
      "source": [
        "#defining the x and y variables\n",
        "X = np.array(SPINS_DF.index).reshape(-1, 1)\n",
        "y = np.array(SPINS_DF['Spins'])\n",
        "\n",
        "# Defining a Linear Reg model for predition\n",
        "LR_model = LinearRegression()\n",
        "\n",
        "# fitting the data into the model\n",
        "LR_model.fit(X, y)\n",
        "\n",
        "# using the constructed model to generate prediction for the next respective date in the timeline\n",
        "predicted_values = LR_model.predict(np.array([[8]]))\n",
        "\n",
        "#picking the first day from the series of predicted future values\n",
        "upcoming_value = int(predicted_values[0])\n",
        "print('Upcoming Spins for the day is ', upcoming_value)\n",
        "\n",
        "if (upcoming_value > SPINS_DF['Spins'][7]):\n",
        "  print(\"The Spins for next day goes UP\")\n",
        "else:\n",
        "  print(\"The Spins for next day goes DOWN\")"
      ],
      "metadata": {
        "colab": {
          "base_uri": "https://localhost:8080/"
        },
        "id": "75yc5L6GUJd0",
        "outputId": "68626ba9-00ab-47c9-a962-0b9510cc6015"
      },
      "execution_count": 7,
      "outputs": [
        {
          "output_type": "stream",
          "name": "stdout",
          "text": [
            "Upcoming Spins for the day is  5906676\n",
            "The Spins for next day goes UP\n"
          ]
        }
      ]
    },
    {
      "cell_type": "markdown",
      "source": [
        "#### Exhibit B (Prediction Using ARIMA)"
      ],
      "metadata": {
        "id": "g-9aXzQ_i-De"
      }
    },
    {
      "cell_type": "code",
      "source": [
        "SPINS_DF = pd.read_csv('/content/Scenario II.csv')\n",
        "SPINS_DF['timestamp'] = pd.to_datetime(SPINS_DF['timestamp'], format='%m/%d/%Y %H:%M')\n",
        "\n",
        "#formatting the new dataframe in correct timestamp since we will use timestamp as index\n",
        "Arima_DF = SPINS_DF\n",
        "Arima_DF.set_index('timestamp', inplace=True)\n",
        "\n",
        "#defining the model and fitting the data\n",
        "model = ARIMA(Arima_DF, order=(1,0,1))\n",
        "model_fit = model.fit()\n",
        "\n",
        "#making the forecast for subsequent date\n",
        "forecast_value = model_fit.forecast(steps=1)\n",
        "\n",
        "upcoming_value = int(forecast_value[0])\n",
        "print('Upcoming Spins for the day is ', upcoming_value)\n",
        "\n",
        "if (upcoming_value > SPINS_DF['Spins'][7]):\n",
        "  print(\"The Spins for next day goes UP\")\n",
        "else:\n",
        "  print(\"The Spins for next day goes DOWN\")"
      ],
      "metadata": {
        "colab": {
          "base_uri": "https://localhost:8080/"
        },
        "id": "FvK57BbYaEW8",
        "outputId": "d3972a5c-6c53-4e03-ce12-7c33ed10bae3"
      },
      "execution_count": 14,
      "outputs": [
        {
          "output_type": "stream",
          "name": "stdout",
          "text": [
            "Upcoming Spins for the day is  3210219\n",
            "The Spins for next day goes UP\n"
          ]
        }
      ]
    }
  ]
}